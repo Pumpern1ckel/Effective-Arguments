{
 "cells": [
  {
   "cell_type": "code",
   "execution_count": 2,
   "id": "ad387ca7",
   "metadata": {
    "_cell_guid": "b1076dfc-b9ad-4769-8c92-a6c4dae69d19",
    "_uuid": "8f2839f25d086af736a60e9eeb907d3b93b6e0e5",
    "execution": {
     "iopub.execute_input": "2022-06-15T14:57:53.045772Z",
     "iopub.status.busy": "2022-06-15T14:57:53.045306Z",
     "iopub.status.idle": "2022-06-15T14:57:55.728139Z",
     "shell.execute_reply": "2022-06-15T14:57:55.726546Z"
    },
    "papermill": {
     "duration": 2.693613,
     "end_time": "2022-06-15T14:57:55.730921",
     "exception": false,
     "start_time": "2022-06-15T14:57:53.037308",
     "status": "completed"
    },
    "tags": []
   },
   "outputs": [],
   "source": [
    "import numpy as np\n",
    "import pandas as pd\n",
    "\n",
    "from sklearn.model_selection import StratifiedKFold\n",
    "from lightgbm import LGBMClassifier\n",
    "\n",
    "from sklearn.feature_extraction.text import TfidfVectorizer\n",
    "from sklearn.preprocessing import OneHotEncoder,LabelEncoder\n",
    "from scipy import sparse\n",
    "from sklearn.linear_model import LogisticRegression\n",
    "from sklearn.metrics import log_loss\n"
   ]
  },
  {
   "cell_type": "code",
   "execution_count": 10,
   "id": "66bc84f5",
   "metadata": {
    "execution": {
     "iopub.execute_input": "2022-06-15T14:57:55.745216Z",
     "iopub.status.busy": "2022-06-15T14:57:55.744439Z",
     "iopub.status.idle": "2022-06-15T14:57:56.040903Z",
     "shell.execute_reply": "2022-06-15T14:57:56.039532Z"
    },
    "papermill": {
     "duration": 0.305535,
     "end_time": "2022-06-15T14:57:56.043202",
     "exception": false,
     "start_time": "2022-06-15T14:57:55.737667",
     "status": "completed"
    },
    "tags": []
   },
   "outputs": [],
   "source": [
    "train_df = pd.read_csv(\"train.csv\")\n",
    "test_df = pd.read_csv('test.csv')"
   ]
  },
  {
   "cell_type": "code",
   "execution_count": 11,
   "id": "83dff5a5",
   "metadata": {
    "execution": {
     "iopub.execute_input": "2022-06-15T14:57:56.053317Z",
     "iopub.status.busy": "2022-06-15T14:57:56.051961Z",
     "iopub.status.idle": "2022-06-15T14:57:56.211618Z",
     "shell.execute_reply": "2022-06-15T14:57:56.210242Z"
    },
    "papermill": {
     "duration": 0.167243,
     "end_time": "2022-06-15T14:57:56.214288",
     "exception": false,
     "start_time": "2022-06-15T14:57:56.047045",
     "status": "completed"
    },
    "tags": []
   },
   "outputs": [
    {
     "data": {
      "text/html": [
       "<div>\n",
       "<style scoped>\n",
       "    .dataframe tbody tr th:only-of-type {\n",
       "        vertical-align: middle;\n",
       "    }\n",
       "\n",
       "    .dataframe tbody tr th {\n",
       "        vertical-align: top;\n",
       "    }\n",
       "\n",
       "    .dataframe thead th {\n",
       "        text-align: right;\n",
       "    }\n",
       "</style>\n",
       "<table border=\"1\" class=\"dataframe\">\n",
       "  <thead>\n",
       "    <tr style=\"text-align: right;\">\n",
       "      <th></th>\n",
       "      <th>count</th>\n",
       "      <th>unique</th>\n",
       "      <th>top</th>\n",
       "      <th>freq</th>\n",
       "    </tr>\n",
       "  </thead>\n",
       "  <tbody>\n",
       "    <tr>\n",
       "      <th>discourse_id</th>\n",
       "      <td>36765</td>\n",
       "      <td>36765</td>\n",
       "      <td>0013cc385424</td>\n",
       "      <td>1</td>\n",
       "    </tr>\n",
       "    <tr>\n",
       "      <th>essay_id</th>\n",
       "      <td>36765</td>\n",
       "      <td>4191</td>\n",
       "      <td>91B1F82B2CF1</td>\n",
       "      <td>23</td>\n",
       "    </tr>\n",
       "    <tr>\n",
       "      <th>discourse_text</th>\n",
       "      <td>36765</td>\n",
       "      <td>36691</td>\n",
       "      <td>Summer projects should be student-designed</td>\n",
       "      <td>14</td>\n",
       "    </tr>\n",
       "    <tr>\n",
       "      <th>discourse_type</th>\n",
       "      <td>36765</td>\n",
       "      <td>7</td>\n",
       "      <td>Evidence</td>\n",
       "      <td>12105</td>\n",
       "    </tr>\n",
       "    <tr>\n",
       "      <th>discourse_effectiveness</th>\n",
       "      <td>36765</td>\n",
       "      <td>3</td>\n",
       "      <td>Adequate</td>\n",
       "      <td>20977</td>\n",
       "    </tr>\n",
       "  </tbody>\n",
       "</table>\n",
       "</div>"
      ],
      "text/plain": [
       "                         count unique  \\\n",
       "discourse_id             36765  36765   \n",
       "essay_id                 36765   4191   \n",
       "discourse_text           36765  36691   \n",
       "discourse_type           36765      7   \n",
       "discourse_effectiveness  36765      3   \n",
       "\n",
       "                                                                 top   freq  \n",
       "discourse_id                                            0013cc385424      1  \n",
       "essay_id                                                91B1F82B2CF1     23  \n",
       "discourse_text           Summer projects should be student-designed      14  \n",
       "discourse_type                                              Evidence  12105  \n",
       "discourse_effectiveness                                     Adequate  20977  "
      ]
     },
     "execution_count": 11,
     "metadata": {},
     "output_type": "execute_result"
    }
   ],
   "source": [
    "train_df.describe().T"
   ]
  },
  {
   "cell_type": "code",
   "execution_count": 4,
   "id": "2d54881f",
   "metadata": {
    "execution": {
     "iopub.execute_input": "2022-06-15T14:57:56.226322Z",
     "iopub.status.busy": "2022-06-15T14:57:56.225853Z",
     "iopub.status.idle": "2022-06-15T14:57:56.239661Z",
     "shell.execute_reply": "2022-06-15T14:57:56.238603Z"
    },
    "papermill": {
     "duration": 0.021939,
     "end_time": "2022-06-15T14:57:56.241791",
     "exception": false,
     "start_time": "2022-06-15T14:57:56.219852",
     "status": "completed"
    },
    "tags": []
   },
   "outputs": [],
   "source": [
    "dem = {'Adequate':0, 'Ineffective':1, 'Effective':2}\n",
    "train_df['target'] = train_df['discourse_effectiveness'].map(dem)"
   ]
  },
  {
   "cell_type": "code",
   "execution_count": 5,
   "id": "89ef0b3b",
   "metadata": {
    "execution": {
     "iopub.execute_input": "2022-06-15T14:57:56.257981Z",
     "iopub.status.busy": "2022-06-15T14:57:56.256509Z",
     "iopub.status.idle": "2022-06-15T14:57:56.271925Z",
     "shell.execute_reply": "2022-06-15T14:57:56.270918Z"
    },
    "papermill": {
     "duration": 0.025406,
     "end_time": "2022-06-15T14:57:56.273906",
     "exception": false,
     "start_time": "2022-06-15T14:57:56.248500",
     "status": "completed"
    },
    "tags": []
   },
   "outputs": [
    {
     "data": {
      "text/html": [
       "<div>\n",
       "<style scoped>\n",
       "    .dataframe tbody tr th:only-of-type {\n",
       "        vertical-align: middle;\n",
       "    }\n",
       "\n",
       "    .dataframe tbody tr th {\n",
       "        vertical-align: top;\n",
       "    }\n",
       "\n",
       "    .dataframe thead th {\n",
       "        text-align: right;\n",
       "    }\n",
       "</style>\n",
       "<table border=\"1\" class=\"dataframe\">\n",
       "  <thead>\n",
       "    <tr style=\"text-align: right;\">\n",
       "      <th></th>\n",
       "      <th>discourse_id</th>\n",
       "      <th>essay_id</th>\n",
       "      <th>discourse_text</th>\n",
       "      <th>discourse_type</th>\n",
       "      <th>discourse_effectiveness</th>\n",
       "      <th>target</th>\n",
       "    </tr>\n",
       "  </thead>\n",
       "  <tbody>\n",
       "    <tr>\n",
       "      <th>0</th>\n",
       "      <td>0013cc385424</td>\n",
       "      <td>007ACE74B050</td>\n",
       "      <td>Hi, i'm Isaac, i'm going to be writing about h...</td>\n",
       "      <td>Lead</td>\n",
       "      <td>Adequate</td>\n",
       "      <td>0</td>\n",
       "    </tr>\n",
       "    <tr>\n",
       "      <th>1</th>\n",
       "      <td>9704a709b505</td>\n",
       "      <td>007ACE74B050</td>\n",
       "      <td>On my perspective, I think that the face is a ...</td>\n",
       "      <td>Position</td>\n",
       "      <td>Adequate</td>\n",
       "      <td>0</td>\n",
       "    </tr>\n",
       "    <tr>\n",
       "      <th>2</th>\n",
       "      <td>c22adee811b6</td>\n",
       "      <td>007ACE74B050</td>\n",
       "      <td>I think that the face is a natural landform be...</td>\n",
       "      <td>Claim</td>\n",
       "      <td>Adequate</td>\n",
       "      <td>0</td>\n",
       "    </tr>\n",
       "    <tr>\n",
       "      <th>3</th>\n",
       "      <td>a10d361e54e4</td>\n",
       "      <td>007ACE74B050</td>\n",
       "      <td>If life was on Mars, we would know by now. The...</td>\n",
       "      <td>Evidence</td>\n",
       "      <td>Adequate</td>\n",
       "      <td>0</td>\n",
       "    </tr>\n",
       "    <tr>\n",
       "      <th>4</th>\n",
       "      <td>db3e453ec4e2</td>\n",
       "      <td>007ACE74B050</td>\n",
       "      <td>People thought that the face was formed by ali...</td>\n",
       "      <td>Counterclaim</td>\n",
       "      <td>Adequate</td>\n",
       "      <td>0</td>\n",
       "    </tr>\n",
       "  </tbody>\n",
       "</table>\n",
       "</div>"
      ],
      "text/plain": [
       "   discourse_id      essay_id  \\\n",
       "0  0013cc385424  007ACE74B050   \n",
       "1  9704a709b505  007ACE74B050   \n",
       "2  c22adee811b6  007ACE74B050   \n",
       "3  a10d361e54e4  007ACE74B050   \n",
       "4  db3e453ec4e2  007ACE74B050   \n",
       "\n",
       "                                      discourse_text discourse_type  \\\n",
       "0  Hi, i'm Isaac, i'm going to be writing about h...           Lead   \n",
       "1  On my perspective, I think that the face is a ...       Position   \n",
       "2  I think that the face is a natural landform be...          Claim   \n",
       "3  If life was on Mars, we would know by now. The...       Evidence   \n",
       "4  People thought that the face was formed by ali...   Counterclaim   \n",
       "\n",
       "  discourse_effectiveness  target  \n",
       "0                Adequate       0  \n",
       "1                Adequate       0  \n",
       "2                Adequate       0  \n",
       "3                Adequate       0  \n",
       "4                Adequate       0  "
      ]
     },
     "execution_count": 5,
     "metadata": {},
     "output_type": "execute_result"
    }
   ],
   "source": [
    "train_df.head(5)"
   ]
  },
  {
   "cell_type": "code",
   "execution_count": 6,
   "id": "2d5052d4",
   "metadata": {
    "execution": {
     "iopub.execute_input": "2022-06-15T14:57:56.291820Z",
     "iopub.status.busy": "2022-06-15T14:57:56.291046Z",
     "iopub.status.idle": "2022-06-15T14:57:56.313334Z",
     "shell.execute_reply": "2022-06-15T14:57:56.312307Z"
    },
    "papermill": {
     "duration": 0.033204,
     "end_time": "2022-06-15T14:57:56.315292",
     "exception": false,
     "start_time": "2022-06-15T14:57:56.282088",
     "status": "completed"
    },
    "tags": []
   },
   "outputs": [
    {
     "data": {
      "text/html": [
       "<div>\n",
       "<style scoped>\n",
       "    .dataframe tbody tr th:only-of-type {\n",
       "        vertical-align: middle;\n",
       "    }\n",
       "\n",
       "    .dataframe tbody tr th {\n",
       "        vertical-align: top;\n",
       "    }\n",
       "\n",
       "    .dataframe thead th {\n",
       "        text-align: right;\n",
       "    }\n",
       "</style>\n",
       "<table border=\"1\" class=\"dataframe\">\n",
       "  <thead>\n",
       "    <tr style=\"text-align: right;\">\n",
       "      <th></th>\n",
       "      <th>discourse_id</th>\n",
       "      <th>essay_id</th>\n",
       "      <th>discourse_text</th>\n",
       "      <th>discourse_type</th>\n",
       "      <th>discourse_effectiveness</th>\n",
       "      <th>target</th>\n",
       "    </tr>\n",
       "  </thead>\n",
       "  <tbody>\n",
       "    <tr>\n",
       "      <th>0</th>\n",
       "      <td>0013cc385424</td>\n",
       "      <td>007ACE74B050</td>\n",
       "      <td>Hi, i'm Isaac, i'm going to be writing about h...</td>\n",
       "      <td>Lead</td>\n",
       "      <td>Adequate</td>\n",
       "      <td>0</td>\n",
       "    </tr>\n",
       "    <tr>\n",
       "      <th>1</th>\n",
       "      <td>9704a709b505</td>\n",
       "      <td>007ACE74B050</td>\n",
       "      <td>On my perspective, I think that the face is a ...</td>\n",
       "      <td>Position</td>\n",
       "      <td>Adequate</td>\n",
       "      <td>0</td>\n",
       "    </tr>\n",
       "  </tbody>\n",
       "</table>\n",
       "</div>"
      ],
      "text/plain": [
       "   discourse_id      essay_id  \\\n",
       "0  0013cc385424  007ACE74B050   \n",
       "1  9704a709b505  007ACE74B050   \n",
       "\n",
       "                                      discourse_text discourse_type  \\\n",
       "0  Hi, i'm Isaac, i'm going to be writing about h...           Lead   \n",
       "1  On my perspective, I think that the face is a ...       Position   \n",
       "\n",
       "  discourse_effectiveness  target  \n",
       "0                Adequate       0  \n",
       "1                Adequate       0  "
      ]
     },
     "execution_count": 6,
     "metadata": {},
     "output_type": "execute_result"
    }
   ],
   "source": [
    "train_df.drop(labels = ('discourse_effectiveness'), \n",
    "              axis=1)\n",
    "train_df.reset_index(drop = True)\n",
    "train_df.head(2)"
   ]
  },
  {
   "cell_type": "code",
   "execution_count": 7,
   "id": "f02a60b6",
   "metadata": {
    "execution": {
     "iopub.execute_input": "2022-06-15T14:57:56.332708Z",
     "iopub.status.busy": "2022-06-15T14:57:56.331934Z",
     "iopub.status.idle": "2022-06-15T14:57:56.370276Z",
     "shell.execute_reply": "2022-06-15T14:57:56.369110Z"
    },
    "papermill": {
     "duration": 0.051415,
     "end_time": "2022-06-15T14:57:56.373299",
     "exception": false,
     "start_time": "2022-06-15T14:57:56.321884",
     "status": "completed"
    },
    "tags": []
   },
   "outputs": [
    {
     "name": "stdout",
     "output_type": "stream",
     "text": [
      "0.0    7353\n",
      "1.0    7353\n",
      "2.0    7353\n",
      "4.0    7353\n",
      "3.0    7353\n",
      "Name: fold, dtype: int64\n"
     ]
    }
   ],
   "source": [
    "n_folds = 5\n",
    "skf = StratifiedKFold(n_splits= n_folds, shuffle= True, random_state= 42)\n",
    "for i, (train_index, test_index) in enumerate(skf.split(train_df, train_df[\"target\"])):\n",
    "    train_df.loc[test_index,\"fold\"] = i\n",
    "print(train_df.fold.value_counts())   "
   ]
  },
  {
   "cell_type": "code",
   "execution_count": 8,
   "id": "f3fb095c",
   "metadata": {
    "execution": {
     "iopub.execute_input": "2022-06-15T14:57:56.390726Z",
     "iopub.status.busy": "2022-06-15T14:57:56.390177Z",
     "iopub.status.idle": "2022-06-15T14:57:56.397196Z",
     "shell.execute_reply": "2022-06-15T14:57:56.394791Z"
    },
    "papermill": {
     "duration": 0.020744,
     "end_time": "2022-06-15T14:57:56.400975",
     "exception": false,
     "start_time": "2022-06-15T14:57:56.380231",
     "status": "completed"
    },
    "tags": []
   },
   "outputs": [],
   "source": [
    "preds = []"
   ]
  },
  {
   "cell_type": "code",
   "execution_count": 9,
   "id": "84c4ff49",
   "metadata": {
    "execution": {
     "iopub.execute_input": "2022-06-15T14:57:56.417832Z",
     "iopub.status.busy": "2022-06-15T14:57:56.417053Z",
     "iopub.status.idle": "2022-06-15T15:02:18.856754Z",
     "shell.execute_reply": "2022-06-15T15:02:18.855831Z"
    },
    "papermill": {
     "duration": 262.451263,
     "end_time": "2022-06-15T15:02:18.859122",
     "exception": false,
     "start_time": "2022-06-15T14:57:56.407859",
     "status": "completed"
    },
    "tags": []
   },
   "outputs": [
    {
     "name": "stderr",
     "output_type": "stream",
     "text": [
      "/opt/conda/lib/python3.7/site-packages/lightgbm/basic.py:859: UserWarning: Converting data to scipy sparse matrix.\n",
      "  _log_warning('Converting data to scipy sparse matrix.')\n"
     ]
    },
    {
     "name": "stdout",
     "output_type": "stream",
     "text": [
      "Fold : 0 EV score: 0.759145243252325\n"
     ]
    },
    {
     "name": "stderr",
     "output_type": "stream",
     "text": [
      "/opt/conda/lib/python3.7/site-packages/lightgbm/basic.py:859: UserWarning: Converting data to scipy sparse matrix.\n",
      "  _log_warning('Converting data to scipy sparse matrix.')\n",
      "/opt/conda/lib/python3.7/site-packages/lightgbm/basic.py:859: UserWarning: Converting data to scipy sparse matrix.\n",
      "  _log_warning('Converting data to scipy sparse matrix.')\n"
     ]
    },
    {
     "name": "stdout",
     "output_type": "stream",
     "text": [
      "Fold : 1 EV score: 0.7501418235171594\n"
     ]
    },
    {
     "name": "stderr",
     "output_type": "stream",
     "text": [
      "/opt/conda/lib/python3.7/site-packages/lightgbm/basic.py:859: UserWarning: Converting data to scipy sparse matrix.\n",
      "  _log_warning('Converting data to scipy sparse matrix.')\n",
      "/opt/conda/lib/python3.7/site-packages/lightgbm/basic.py:859: UserWarning: Converting data to scipy sparse matrix.\n",
      "  _log_warning('Converting data to scipy sparse matrix.')\n"
     ]
    },
    {
     "name": "stdout",
     "output_type": "stream",
     "text": [
      "Fold : 2 EV score: 0.7771120754809966\n"
     ]
    },
    {
     "name": "stderr",
     "output_type": "stream",
     "text": [
      "/opt/conda/lib/python3.7/site-packages/lightgbm/basic.py:859: UserWarning: Converting data to scipy sparse matrix.\n",
      "  _log_warning('Converting data to scipy sparse matrix.')\n",
      "/opt/conda/lib/python3.7/site-packages/lightgbm/basic.py:859: UserWarning: Converting data to scipy sparse matrix.\n",
      "  _log_warning('Converting data to scipy sparse matrix.')\n"
     ]
    },
    {
     "name": "stdout",
     "output_type": "stream",
     "text": [
      "Fold : 3 EV score: 0.7768124629930829\n"
     ]
    },
    {
     "name": "stderr",
     "output_type": "stream",
     "text": [
      "/opt/conda/lib/python3.7/site-packages/lightgbm/basic.py:859: UserWarning: Converting data to scipy sparse matrix.\n",
      "  _log_warning('Converting data to scipy sparse matrix.')\n",
      "/opt/conda/lib/python3.7/site-packages/lightgbm/basic.py:859: UserWarning: Converting data to scipy sparse matrix.\n",
      "  _log_warning('Converting data to scipy sparse matrix.')\n"
     ]
    },
    {
     "name": "stdout",
     "output_type": "stream",
     "text": [
      "Fold : 4 EV score: 0.7634138419389856\n"
     ]
    },
    {
     "name": "stderr",
     "output_type": "stream",
     "text": [
      "/opt/conda/lib/python3.7/site-packages/lightgbm/basic.py:859: UserWarning: Converting data to scipy sparse matrix.\n",
      "  _log_warning('Converting data to scipy sparse matrix.')\n"
     ]
    }
   ],
   "source": [
    "for n_fold in range(n_folds):\n",
    "    train = train_df[train_df['fold']!=n_fold]\n",
    "    val = train_df[train_df['fold']==n_fold] \n",
    "    \n",
    "    tf = TfidfVectorizer(ngram_range=(1,2),norm='l2', smooth_idf=True)\n",
    "    tr_discourse_tfidf = tf.fit_transform(train[\"discourse_text\"])\n",
    "    eval_discourse_tfidf = tf.transform(val[\"discourse_text\"])\n",
    "    te_discourse_tfidf = tf.transform(test_df[\"discourse_text\"])\n",
    "    \n",
    "    #text\n",
    "    #tf = TfidfVectorizer(ngram_range=(1,2),norm='l2', smooth_idf=True) # Load tf another time because it will learn the new vocabulary for 'text'\n",
    "    #tr_text_tfidf = tf.fit_transform(train[\"text\"])\n",
    "    #eval_text_tfidf = tf.transform(val[\"text\"])\n",
    "    #te_text_tfidf = tf.transform(test_df[\"text\"])\n",
    "    \n",
    "    #discourse_type\n",
    "    ohe = OneHotEncoder()\n",
    "    tr_type_ohe =  sparse.csr_matrix(ohe.fit_transform(train[\"discourse_type\"].values.reshape(-1,1)))\n",
    "    eval_type_ohe =  sparse.csr_matrix(ohe.transform(val[\"discourse_type\"].values.reshape(-1,1)))\n",
    "    te_type_ohe =  sparse.csr_matrix(ohe.transform(test_df[\"discourse_type\"].values.reshape(-1,1)))\n",
    "        \n",
    "    #Stack each vector representations \n",
    "    tr_tfidf = sparse.hstack((tr_type_ohe,tr_discourse_tfidf))\n",
    "    eval_tfidf = sparse.hstack((eval_type_ohe,eval_discourse_tfidf))\n",
    "    te_tfidf = sparse.hstack((te_type_ohe,te_discourse_tfidf))\n",
    "    \n",
    "    #Model\n",
    "    #clf = LogisticRegression(max_iter=500,penalty=\"l2\",C=1.0131816333513533)\n",
    "    #clf.fit(tr_tfidf, train[\"target\"].values)\n",
    "    \n",
    "    clf = LGBMClassifier()\n",
    "    clf.fit(tr_tfidf, train[\"target\"].values)\n",
    "    \n",
    "    #Validation \n",
    "    ev_preds = clf.predict_proba(eval_tfidf)\n",
    "    ev_loss = log_loss(val[\"target\"].values,ev_preds)\n",
    "    print(\"Fold : {} EV score: {}\".format(n_fold,ev_loss))\n",
    "    \n",
    "    #Test\n",
    "    preds.append(clf.predict_proba(te_tfidf))"
   ]
  },
  {
   "cell_type": "code",
   "execution_count": 1,
   "id": "98e464b6",
   "metadata": {
    "execution": {
     "iopub.execute_input": "2022-06-15T15:02:18.872734Z",
     "iopub.status.busy": "2022-06-15T15:02:18.871786Z",
     "iopub.status.idle": "2022-06-15T15:02:18.887231Z",
     "shell.execute_reply": "2022-06-15T15:02:18.885846Z"
    },
    "papermill": {
     "duration": 0.024102,
     "end_time": "2022-06-15T15:02:18.889632",
     "exception": false,
     "start_time": "2022-06-15T15:02:18.865530",
     "status": "completed"
    },
    "tags": []
   },
   "outputs": [
    {
     "ename": "NameError",
     "evalue": "name 'pd' is not defined",
     "output_type": "error",
     "traceback": [
      "\u001b[0;31m---------------------------------------------------------------------------\u001b[0m",
      "\u001b[0;31mNameError\u001b[0m                                 Traceback (most recent call last)",
      "\u001b[0;32m/var/folders/8z/l4bk71jd6gzbc3m3qx8_m6qm0000gn/T/ipykernel_1592/2855437050.py\u001b[0m in \u001b[0;36m<module>\u001b[0;34m\u001b[0m\n\u001b[0;32m----> 1\u001b[0;31m \u001b[0msubmission\u001b[0m \u001b[0;34m=\u001b[0m \u001b[0mpd\u001b[0m\u001b[0;34m.\u001b[0m\u001b[0mread_csv\u001b[0m\u001b[0;34m(\u001b[0m\u001b[0;34m\"Effective-Arguments/sample_submission.csv\"\u001b[0m\u001b[0;34m)\u001b[0m\u001b[0;34m\u001b[0m\u001b[0;34m\u001b[0m\u001b[0m\n\u001b[0m",
      "\u001b[0;31mNameError\u001b[0m: name 'pd' is not defined"
     ]
    }
   ],
   "source": [
    "submission = pd.read_csv(\"Effective-Arguments/sample_submission.csv\")\n",
    "submission"
   ]
  },
  {
   "cell_type": "code",
   "execution_count": 11,
   "id": "4d341b8d",
   "metadata": {
    "execution": {
     "iopub.execute_input": "2022-06-15T15:02:18.903588Z",
     "iopub.status.busy": "2022-06-15T15:02:18.902189Z",
     "iopub.status.idle": "2022-06-15T15:02:18.921786Z",
     "shell.execute_reply": "2022-06-15T15:02:18.920122Z"
    },
    "papermill": {
     "duration": 0.028006,
     "end_time": "2022-06-15T15:02:18.923588",
     "exception": false,
     "start_time": "2022-06-15T15:02:18.895582",
     "status": "completed"
    },
    "tags": []
   },
   "outputs": [
    {
     "data": {
      "text/html": [
       "<div>\n",
       "<style scoped>\n",
       "    .dataframe tbody tr th:only-of-type {\n",
       "        vertical-align: middle;\n",
       "    }\n",
       "\n",
       "    .dataframe tbody tr th {\n",
       "        vertical-align: top;\n",
       "    }\n",
       "\n",
       "    .dataframe thead th {\n",
       "        text-align: right;\n",
       "    }\n",
       "</style>\n",
       "<table border=\"1\" class=\"dataframe\">\n",
       "  <thead>\n",
       "    <tr style=\"text-align: right;\">\n",
       "      <th></th>\n",
       "      <th>discourse_id</th>\n",
       "      <th>Ineffective</th>\n",
       "      <th>Adequate</th>\n",
       "      <th>Effective</th>\n",
       "    </tr>\n",
       "  </thead>\n",
       "  <tbody>\n",
       "    <tr>\n",
       "      <th>0</th>\n",
       "      <td>a261b6e14276</td>\n",
       "      <td>0.251141</td>\n",
       "      <td>0.015476</td>\n",
       "      <td>0.733382</td>\n",
       "    </tr>\n",
       "    <tr>\n",
       "      <th>1</th>\n",
       "      <td>5a88900e7dc1</td>\n",
       "      <td>0.673514</td>\n",
       "      <td>0.047944</td>\n",
       "      <td>0.278542</td>\n",
       "    </tr>\n",
       "    <tr>\n",
       "      <th>2</th>\n",
       "      <td>9790d835736b</td>\n",
       "      <td>0.623609</td>\n",
       "      <td>0.074768</td>\n",
       "      <td>0.301623</td>\n",
       "    </tr>\n",
       "    <tr>\n",
       "      <th>3</th>\n",
       "      <td>75ce6d68b67b</td>\n",
       "      <td>0.495991</td>\n",
       "      <td>0.138563</td>\n",
       "      <td>0.365446</td>\n",
       "    </tr>\n",
       "    <tr>\n",
       "      <th>4</th>\n",
       "      <td>93578d946723</td>\n",
       "      <td>0.500776</td>\n",
       "      <td>0.095289</td>\n",
       "      <td>0.403935</td>\n",
       "    </tr>\n",
       "  </tbody>\n",
       "</table>\n",
       "</div>"
      ],
      "text/plain": [
       "   discourse_id  Ineffective  Adequate  Effective\n",
       "0  a261b6e14276     0.251141  0.015476   0.733382\n",
       "1  5a88900e7dc1     0.673514  0.047944   0.278542\n",
       "2  9790d835736b     0.623609  0.074768   0.301623\n",
       "3  75ce6d68b67b     0.495991  0.138563   0.365446\n",
       "4  93578d946723     0.500776  0.095289   0.403935"
      ]
     },
     "execution_count": 11,
     "metadata": {},
     "output_type": "execute_result"
    }
   ],
   "source": [
    "predictions = np.array(preds).mean(0)\n",
    "submission.loc[:,\"Ineffective\"] = predictions[:,0]\n",
    "submission.loc[:,\"Adequate\"] = predictions[:,1]\n",
    "submission.loc[:,\"Effective\"] = predictions[:,2]\n",
    "submission.head()"
   ]
  },
  {
   "cell_type": "code",
   "execution_count": 12,
   "id": "3fd1628b",
   "metadata": {
    "execution": {
     "iopub.execute_input": "2022-06-15T15:02:18.935486Z",
     "iopub.status.busy": "2022-06-15T15:02:18.935114Z",
     "iopub.status.idle": "2022-06-15T15:02:18.943269Z",
     "shell.execute_reply": "2022-06-15T15:02:18.942133Z"
    },
    "papermill": {
     "duration": 0.01731,
     "end_time": "2022-06-15T15:02:18.946054",
     "exception": false,
     "start_time": "2022-06-15T15:02:18.928744",
     "status": "completed"
    },
    "tags": []
   },
   "outputs": [],
   "source": [
    "submission.to_csv(\"submission.csv\", index=False)"
   ]
  }
 ],
 "metadata": {
  "kernelspec": {
   "display_name": "Python 3.7.12 ('base')",
   "language": "python",
   "name": "python3"
  },
  "language_info": {
   "codemirror_mode": {
    "name": "ipython",
    "version": 3
   },
   "file_extension": ".py",
   "mimetype": "text/x-python",
   "name": "python",
   "nbconvert_exporter": "python",
   "pygments_lexer": "ipython3",
   "version": "3.7.12"
  },
  "papermill": {
   "default_parameters": {},
   "duration": 281.48994,
   "end_time": "2022-06-15T15:02:20.480740",
   "environment_variables": {},
   "exception": null,
   "input_path": "__notebook__.ipynb",
   "output_path": "__notebook__.ipynb",
   "parameters": {},
   "start_time": "2022-06-15T14:57:38.990800",
   "version": "2.3.4"
  },
  "vscode": {
   "interpreter": {
    "hash": "8c768661f3e018c36f2635cca1bde572f14a965b3f7d82bcb9b05cdb07e96860"
   }
  }
 },
 "nbformat": 4,
 "nbformat_minor": 5
}
